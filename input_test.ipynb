{
 "cells": [
  {
   "cell_type": "code",
   "execution_count": 1,
   "metadata": {},
   "outputs": [],
   "source": [
    "import ipywidgets as widgets"
   ]
  },
  {
   "cell_type": "code",
   "execution_count": 2,
   "metadata": {},
   "outputs": [
    {
     "data": {
      "application/vnd.jupyter.widget-view+json": {
       "model_id": "576b3db1399544d493d0b8350fb66c03",
       "version_major": 2,
       "version_minor": 0
      },
      "text/html": [
       "<p>Failed to display Jupyter Widget of type <code>HBox</code>.</p>\n",
       "<p>\n",
       "  If you're reading this message in Jupyter Notebook or JupyterLab, it may mean\n",
       "  that the widgets JavaScript is still loading. If this message persists, it\n",
       "  likely means that the widgets JavaScript library is either not installed or\n",
       "  not enabled. See the <a href=\"https://ipywidgets.readthedocs.io/en/stable/user_install.html\">Jupyter\n",
       "  Widgets Documentation</a> for setup instructions.\n",
       "</p>\n",
       "<p>\n",
       "  If you're reading this message in another notebook frontend (for example, a static\n",
       "  rendering on GitHub or <a href=\"https://nbviewer.jupyter.org/\">NBViewer</a>),\n",
       "  it may mean that your frontend doesn't currently support widgets.\n",
       "</p>\n"
      ],
      "text/plain": [
       "HBox(children=(Dropdown(description='Number:', options={'QA 1': 1, 'QA 2': 2, 'QA 3': 3}, value=1), Checkbox(value=False, description='Save?')))"
      ]
     },
     "metadata": {},
     "output_type": "display_data"
    },
    {
     "data": {
      "application/vnd.jupyter.widget-view+json": {
       "model_id": "a35cff61e07c4e22b81d89ea851a5014",
       "version_major": 2,
       "version_minor": 0
      },
      "text/html": [
       "<p>Failed to display Jupyter Widget of type <code>HBox</code>.</p>\n",
       "<p>\n",
       "  If you're reading this message in Jupyter Notebook or JupyterLab, it may mean\n",
       "  that the widgets JavaScript is still loading. If this message persists, it\n",
       "  likely means that the widgets JavaScript library is either not installed or\n",
       "  not enabled. See the <a href=\"https://ipywidgets.readthedocs.io/en/stable/user_install.html\">Jupyter\n",
       "  Widgets Documentation</a> for setup instructions.\n",
       "</p>\n",
       "<p>\n",
       "  If you're reading this message in another notebook frontend (for example, a static\n",
       "  rendering on GitHub or <a href=\"https://nbviewer.jupyter.org/\">NBViewer</a>),\n",
       "  it may mean that your frontend doesn't currently support widgets.\n",
       "</p>\n"
      ],
      "text/plain": [
       "HBox(children=(Dropdown(description='Number:', index=2, options={'QA 1': 1, 'QA 2': 2, 'QA 3': 3}, value=3), Checkbox(value=False, description='Save?')))"
      ]
     },
     "metadata": {},
     "output_type": "display_data"
    },
    {
     "data": {
      "application/vnd.jupyter.widget-view+json": {
       "model_id": "3c2f77a27fee491abefef4b33654e6ab",
       "version_major": 2,
       "version_minor": 0
      },
      "text/html": [
       "<p>Failed to display Jupyter Widget of type <code>HBox</code>.</p>\n",
       "<p>\n",
       "  If you're reading this message in Jupyter Notebook or JupyterLab, it may mean\n",
       "  that the widgets JavaScript is still loading. If this message persists, it\n",
       "  likely means that the widgets JavaScript library is either not installed or\n",
       "  not enabled. See the <a href=\"https://ipywidgets.readthedocs.io/en/stable/user_install.html\">Jupyter\n",
       "  Widgets Documentation</a> for setup instructions.\n",
       "</p>\n",
       "<p>\n",
       "  If you're reading this message in another notebook frontend (for example, a static\n",
       "  rendering on GitHub or <a href=\"https://nbviewer.jupyter.org/\">NBViewer</a>),\n",
       "  it may mean that your frontend doesn't currently support widgets.\n",
       "</p>\n"
      ],
      "text/plain": [
       "HBox(children=(Dropdown(description='Number:', index=1, options={'QA 1': 1, 'QA 2': 2, 'QA 3': 3}, value=2), Checkbox(value=False, description='Save?')))"
      ]
     },
     "metadata": {},
     "output_type": "display_data"
    }
   ],
   "source": [
    "def handle_submit(sender):\n",
    "    #print(sender.keys())\n",
    "    #print(sender['name'], sender['old'], sender['new'], sender['owner'], sender['type'])\n",
    "    if sender['type'] == \"change\":\n",
    "        #print(sender['new'])\n",
    "        pass\n",
    "        \n",
    "\n",
    "# Define data\n",
    "dic = {\"a\":1,\"b\":3,\"c\":2}\n",
    "options={\n",
    "    'QA 1':1,\n",
    "    'QA 2':2,\n",
    "    'QA 3':3\n",
    "}\n",
    "\n",
    "for key in dic:\n",
    "    # Define widget\n",
    "    val = dic[key]\n",
    "    #w_Input = widgets.BoundedIntText(value=val, min=0, max=10, step=1, description='Current:', disabled=False)\n",
    "    w_Input = widgets.Dropdown(options=options, value=val, description='Number:', )\n",
    "    # Determine if to store\n",
    "    w_Checkbox = widgets.Checkbox(value=False, description='Save?', disabled=False)\n",
    "    w_HBox = widgets.HBox([w_Input, w_Checkbox])\n",
    "\n",
    "    display(w_HBox)\n",
    "    # Assign the value of the dict to the widget\n",
    "    dic[key] = w_HBox\n",
    "    #w.observe(handle_submit, names='value')"
   ]
  },
  {
   "cell_type": "code",
   "execution_count": 4,
   "metadata": {},
   "outputs": [
    {
     "name": "stdout",
     "output_type": "stream",
     "text": [
      "1 True\n",
      "3 False\n",
      "1 False\n"
     ]
    }
   ],
   "source": [
    "for key in dic:\n",
    "    w_HBox = dic[key]\n",
    "    w_Input = w_HBox.children[0]\n",
    "    w_Checkbox = w_HBox.children[1]\n",
    "    print(w_Input.value, w_Checkbox.value)"
   ]
  },
  {
   "cell_type": "code",
   "execution_count": null,
   "metadata": {},
   "outputs": [],
   "source": []
  }
 ],
 "metadata": {
  "kernelspec": {
   "display_name": "Python 3",
   "language": "python",
   "name": "python3"
  },
  "language_info": {
   "codemirror_mode": {
    "name": "ipython",
    "version": 3
   },
   "file_extension": ".py",
   "mimetype": "text/x-python",
   "name": "python",
   "nbconvert_exporter": "python",
   "pygments_lexer": "ipython3",
   "version": "3.6.3"
  }
 },
 "nbformat": 4,
 "nbformat_minor": 2
}
